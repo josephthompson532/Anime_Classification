{
 "cells": [
  {
   "cell_type": "code",
   "execution_count": null,
   "metadata": {},
   "outputs": [],
   "source": [
    "# Scrape images from url into correct file structure to be fed into a CNN\n",
    "\n",
    "import pandas as pd\n",
    "from matplotlib.image import imread\n",
    "import matplotlib.pyplot as plt\n",
    "import os\n",
    "import seaborn as sns"
   ]
  },
  {
   "cell_type": "code",
   "execution_count": null,
   "metadata": {},
   "outputs": [],
   "source": [
    "dim1=[]\n",
    "dim2=[]\n",
    "\n",
    "train_path = \"/Users/josephthompson/Documents/Projects_MI/Anime_CNN/Resources/anime_categories/souryuu_asuka_langley/train/yes/\"\n",
    "\n",
    "for image_filename in os.listdir(train_path):\n",
    "    \n",
    "    img = imread(train_path + image_filename, format=\"jpeg\")\n",
    "    d1,d2,colors=img.shape\n",
    "    dim1.append(d1)\n",
    "    dim2.append(d2)\n",
    "    \n",
    "\n",
    "sns.jointplot(dim1,dim2)\n",
    "\n"
   ]
  },
  {
   "cell_type": "code",
   "execution_count": null,
   "metadata": {},
   "outputs": [],
   "source": [
    "print(np.mean(dim1))\n",
    "print(np.mean(dim2))\n",
    "#image_shape = (780,900, 3)\n",
    "# with these image dimensions, there are too many parameteres for a VGG19 architecture\n",
    "image_shape = (380,500)"
   ]
  },
  {
   "cell_type": "code",
   "execution_count": null,
   "metadata": {},
   "outputs": [],
   "source": [
    "import cv2 as cv\n",
    "import os\n",
    "from PIL import Image\n",
    "from matplotlib import cm\n",
    "dim = image_shape\n",
    "\n",
    "path = \"/Users/josephthompson/Documents/Projects_MI/Anime_CNN/Resources/anime_categories/souryuu_asuka_langley\"\n",
    "\n",
    "yes_or_no = ['yes','no']\n",
    "train_or_test = [\"train\",\"test\"]\n",
    "first = True\n",
    "\n",
    "for x in yes_or_no:\n",
    "    for y in train_or_test:\n",
    "        if first:\n",
    "            os.makedirs(\"/Users/josephthompson/Documents/Projects_MI/Anime_CNN/Resources/anime_categories/souryuu_asuka_langley/train/yes_resized/\")\n",
    "            os.makedirs(\"/Users/josephthompson/Documents/Projects_MI/Anime_CNN/Resources/anime_categories/souryuu_asuka_langley/train/no_resized/\")\n",
    "            os.makedirs(\"/Users/josephthompson/Documents/Projects_MI/Anime_CNN/Resources/anime_categories/souryuu_asuka_langley/test/yes_resized/\")\n",
    "            os.makedirs(\"/Users/josephthompson/Documents/Projects_MI/Anime_CNN/Resources/anime_categories/souryuu_asuka_langley/test/no_resized/\")\n",
    "            first = False\n",
    "        for image in os.listdir(f\"{path}/{y}/{x}\"):\n",
    "            try:\n",
    "                img = imread(f\"{path}/{y}/{x}/{image}\", format=\"jpeg\")\n",
    "                resized_img = cv.resize(img, dim)\n",
    "                img = Image.fromarray(resized_img, 'RGB')\n",
    "                img.save(f\"../Resources/anime_categories/souryuu_asuka_langley/{y}/{x}_resized/{image}\")\n",
    "            except:\n",
    "                print(\"we had an issue here\")\n",
    "        \n"
   ]
  },
  {
   "cell_type": "code",
   "execution_count": null,
   "metadata": {},
   "outputs": [],
   "source": [
    "dim1=[]\n",
    "dim2=[]\n",
    "\n",
    "train_path = \"/Users/josephthompson/Documents/Projects_MI/Anime_CNN/Resources/anime_categories/souryuu_asuka_langley/train/yes_resized/\"\n",
    "\n",
    "for image_filename in os.listdir(train_path):\n",
    "    \n",
    "    img = imread(train_path + image_filename, format=\"jpeg\")\n",
    "    d1,d2,colors=img.shape\n",
    "    dim1.append(d1)\n",
    "    dim2.append(d2)\n",
    "    \n",
    "\n",
    "sns.jointplot(dim1,dim2)"
   ]
  }
 ],
 "metadata": {
  "kernelspec": {
   "display_name": "PythonData",
   "language": "python",
   "name": "pythondata"
  },
  "language_info": {
   "codemirror_mode": {
    "name": "ipython",
    "version": 3
   },
   "file_extension": ".py",
   "mimetype": "text/x-python",
   "name": "python",
   "nbconvert_exporter": "python",
   "pygments_lexer": "ipython3",
   "version": "3.7.7"
  }
 },
 "nbformat": 4,
 "nbformat_minor": 4
}

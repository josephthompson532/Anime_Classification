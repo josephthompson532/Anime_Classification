{
 "cells": [
  {
   "cell_type": "code",
   "execution_count": null,
   "metadata": {},
   "outputs": [],
   "source": [
    "# Scrape images from url into correct file structure to be fed into a CNN\n",
    "\n",
    "import pandas as pd\n",
    "import numpy as np\n",
    "import csv\n",
    "from bs4 import BeautifulSoup as soup\n",
    "from matplotlib.image import imread\n",
    "import matplotlib.pyplot as plt\n",
    "import urllib.request\n",
    "import os\n",
    "\n",
    "df = pd.read_csv(\"../Resources/all_data.csv\")\n",
    "\n",
    "batch_per_tag = 50\n",
    "train_test_split_counter = np.ceil(batch_per_tag*.75)\n",
    "\n",
    "for tag in [\"souryuu_asuka_langley\",\"red_hair\",\"blonde_hair\"]:\n",
    "    copy_df = df.copy()\n",
    "    copy_df[tag] = df[\"tags\"].str.contains(tag)\n",
    "    df_title = f\"{tag}_df\"\n",
    "    df_title = copy_df[copy_df[tag]==True]\n",
    "    df_title = df_title.iloc[:batch_per_tag]\n",
    "    counter=0\n",
    "    list_of_urls = df_title[\"sample_url\"].values.tolist()\n",
    "    for i, url_title in enumerate(list_of_urls):\n",
    "        if counter<train_test_split_counter:\n",
    "            try:\n",
    "                if os.path.isdir(f\"../Resources/anime_categories/{tag}/train\"):\n",
    "                    urllib.request.urlretrieve(f\"https:{url_title}\",f\"../Resources/anime_categories/{tag}/train/{tag}{i}.png\")\n",
    "                    counter+=1\n",
    "                else:\n",
    "                    \n",
    "                    os.mkdir(f\"../Resources/anime_categories/{tag}\")\n",
    "                    os.mkdir(f\"../Resources/anime_categories/{tag}/train\")\n",
    "                    urllib.request.urlretrieve(f\"https:{url_title}\",f\"../Resources/anime_categories/{tag}/train/{tag}{i}.png\")\n",
    "                    counter+=1\n",
    "            except:\n",
    "                counter+=1\n",
    "                continue\n",
    "        else:\n",
    "            try:\n",
    "                if os.path.isdir(f\"../Resources/anime_categories/{tag}/test\"):\n",
    "                    urllib.request.urlretrieve(f\"https:{url_title}\",f\"../Resources/anime_categories/{tag}/test/{tag}{i}.png\")\n",
    "                    counter+=1\n",
    "                else:\n",
    "                    os.mkdir(f\"../Resources/anime_categories/{tag}/test\")\n",
    "                    urllib.request.urlretrieve(f\"https:{url_title}\",f\"../Resources/anime_categories/{tag}/test/{tag}{i}.png\")\n",
    "                    counter+=1\n",
    "            except:\n",
    "                counter +=1\n",
    "                continue\n",
    "                \n",
    "    del df_title\n",
    "            \n",
    "    "
   ]
  },
  {
   "cell_type": "code",
   "execution_count": null,
   "metadata": {},
   "outputs": [],
   "source": []
  }
 ],
 "metadata": {
  "kernelspec": {
   "display_name": "PythonData",
   "language": "python",
   "name": "pythondata"
  },
  "language_info": {
   "codemirror_mode": {
    "name": "ipython",
    "version": 3
   },
   "file_extension": ".py",
   "mimetype": "text/x-python",
   "name": "python",
   "nbconvert_exporter": "python",
   "pygments_lexer": "ipython3",
   "version": "3.7.7"
  }
 },
 "nbformat": 4,
 "nbformat_minor": 4
}
